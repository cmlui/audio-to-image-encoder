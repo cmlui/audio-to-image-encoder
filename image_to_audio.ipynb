{
 "cells": [
  {
   "cell_type": "markdown",
   "metadata": {},
   "source": [
    "### Restore the latent representation from the image"
   ]
  },
  {
   "cell_type": "code",
   "execution_count": null,
   "metadata": {},
   "outputs": [],
   "source": [
    "import tensorflow as tf\n",
    "import numpy as np\n",
    "from PIL import Image"
   ]
  },
  {
   "cell_type": "code",
   "execution_count": null,
   "metadata": {},
   "outputs": [],
   "source": [
    "#function for finding the latent representation of an image\n",
    "def find_closest_latent_vector(initial_vector, num_optimization_steps,\n",
    "                               steps_per_image):\n",
    "  images = []\n",
    "  losses = []\n",
    "\n",
    "  vector = tf.Variable(initial_vector)  \n",
    "  optimizer = tf.optimizers.Adam(learning_rate=0.01)\n",
    "  loss_fn = tf.losses.MeanAbsoluteError(reduction=\"sum\")\n",
    "\n",
    "  for step in range(num_optimization_steps):\n",
    "    if (step % 100)==0:\n",
    "      print()\n",
    "    print('.', end='')\n",
    "    with tf.GradientTape() as tape:\n",
    "      image = generator(vector.read_value())[0]\n",
    "      image = tf.cast(image, dtype=tf.double)\n",
    "      if (step % steps_per_image) == 0:\n",
    "        images.append(image.numpy())\n",
    "        final_vector = vector\n",
    "      target_image_difference = loss_fn(image, target_image[:,:,:3])\n",
    "      # The latent vectors were sampled from a normal distribution. We can get\n",
    "      # more realistic images if we regularize the length of the latent vector to \n",
    "      # the average length of vector from this distribution.\n",
    "      regularizer = tf.cast(tf.abs(tf.norm(vector) - np.sqrt(latent_dim)), dtype=tf.float64)\n",
    "\n",
    "      loss = target_image_difference + regularizer\n",
    "      losses.append(loss.numpy())\n",
    "\n",
    "    # Here we update the optimized vector\n",
    "    grads = tape.gradient(loss, [vector])\n",
    "    optimizer.apply_gradients(zip(grads, [vector]))\n",
    "    \n",
    "  return images, losses, final_vector"
   ]
  },
  {
   "cell_type": "code",
   "execution_count": null,
   "metadata": {},
   "outputs": [],
   "source": [
    "generator = tf.saved_model.load('image_model/generator_model')"
   ]
  },
  {
   "cell_type": "code",
   "execution_count": null,
   "metadata": {},
   "outputs": [],
   "source": [
    "#prepare the generated_image\n",
    "target_image = Image.open('generated_image.png')\n",
    "target_image = np.asarray(target_image)\n",
    "target_image = target_image/255"
   ]
  },
  {
   "cell_type": "code",
   "execution_count": null,
   "metadata": {
    "scrolled": true
   },
   "outputs": [],
   "source": [
    "LATENT_DIM = 400\n",
    "INITIAL_VECTOR = tf.random.normal([1, LATENT_DIM])\n",
    "NUM_OPTIMIZATION_STEPS = 1\n",
    "STEPS_PER_IMAGE=5\n",
    "\n",
    "images, loss, vector = find_closest_latent_vector(INITIAL_VECTOR, NUM_OPTIMIZATION_STEPS, STEPS_PER_IMAGE)"
   ]
  },
  {
   "cell_type": "code",
   "execution_count": null,
   "metadata": {},
   "outputs": [],
   "source": [
    "#convert the latent representation to numpy and save it\n",
    "representation_from_image = vector.numpy()\n",
    "np.save('representation_from_image',representation_from_image)"
   ]
  },
  {
   "cell_type": "code",
   "execution_count": null,
   "metadata": {},
   "outputs": [],
   "source": []
  },
  {
   "cell_type": "markdown",
   "metadata": {},
   "source": [
    "### reconstruct with latent representation restored from generated image"
   ]
  },
  {
   "cell_type": "markdown",
   "metadata": {},
   "source": [
    "Restart kennel before running this part"
   ]
  },
  {
   "cell_type": "code",
   "execution_count": null,
   "metadata": {},
   "outputs": [],
   "source": [
    "import import_ipynb\n",
    "import numpy as np\n",
    "import pickle\n",
    "import librosa\n",
    "import lws\n",
    "from audio_model.autoencoder import VAE"
   ]
  },
  {
   "cell_type": "code",
   "execution_count": null,
   "metadata": {},
   "outputs": [],
   "source": [
    "#load the audio model to generate a spectrogram from the latent representation\n",
    "vae = VAE.load(\"audio_model/model\")\n",
    "representation_from_image = np.load(\"representation_from_image.npy\")\n",
    "spectrogram_from_image = vae.decoder.predict(representation_from_image)"
   ]
  },
  {
   "cell_type": "code",
   "execution_count": null,
   "metadata": {},
   "outputs": [],
   "source": [
    "#convert the spectrogram to signal\n",
    "\n",
    "#load the minmax value of dataset for normalizing the signal\n",
    "with open (\"audio_model/minmax/min_max_values.pkl\" , \"rb\")as f:\n",
    "     min_max = pickle.load(f)\n",
    "        \n",
    "MIN = 0\n",
    "MAX = 1\n",
    "\n",
    "#reshape the generated spectrogram to 3-d\n",
    "log_spectrogram = spectrogram_from_image[0]\n",
    "\n",
    "# reshape the log spectrogram\n",
    "log_spectrogram = log_spectrogram[:,:, 0]\n",
    "\n",
    "# apply denormalisation\n",
    "denormalized_log_spectrogram = (log_spectrogram - MIN) / (MAX - MIN)\n",
    "denormalized_log_spectrogram = denormalized_log_spectrogram * (min_max[\"max\"] - min_max[\"min\"]) + min_max[\"min\"]\n",
    "\n",
    "# log spectrogram -> spectrogram\n",
    "spectrogram = librosa.db_to_amplitude(denormalized_log_spectrogram)\n",
    "\n",
    "# pad zero to conform frequency bin to 257 to fit lws input shape\n",
    "spectrogram_padded = np.pad(spectrogram,((0,1),(0,1)))\n",
    "\n",
    "# apply lws phase reconstruction\n",
    "lws_processor=lws.lws(512,256, mode=\"speech\") \n",
    "spectrogram_with_phase = lws_processor.run_lws(spectrogram_padded)\n",
    "\n",
    "# apply lws isft\n",
    "reconstructed_signal = lws_processor.istft(spectrogram_with_phase)"
   ]
  },
  {
   "cell_type": "code",
   "execution_count": null,
   "metadata": {},
   "outputs": [],
   "source": [
    "#listen to the result\n",
    "SAMPLE_RATE = 22050\n",
    "\n",
    "import IPython.display as ipd\n",
    "ipd.Audio(reconstructed_signal, rate=SAMPLE_RATE)"
   ]
  },
  {
   "cell_type": "code",
   "execution_count": null,
   "metadata": {},
   "outputs": [],
   "source": []
  }
 ],
 "metadata": {
  "kernelspec": {
   "display_name": "tenv",
   "language": "python",
   "name": "tenv"
  },
  "language_info": {
   "codemirror_mode": {
    "name": "ipython",
    "version": 3
   },
   "file_extension": ".py",
   "mimetype": "text/x-python",
   "name": "python",
   "nbconvert_exporter": "python",
   "pygments_lexer": "ipython3",
   "version": "3.6.13"
  }
 },
 "nbformat": 4,
 "nbformat_minor": 4
}
